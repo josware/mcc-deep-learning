{
 "cells": [
  {
   "cell_type": "code",
   "execution_count": 11,
   "metadata": {},
   "outputs": [],
   "source": [
    "#Get necesary libraries\n",
    "import PIL as pil\n",
    "import numpy as np"
   ]
  },
  {
   "cell_type": "code",
   "execution_count": 95,
   "metadata": {},
   "outputs": [
    {
     "name": "stdout",
     "output_type": "stream",
     "text": [
      "7.0.0\n",
      "1.18.1\n"
     ]
    }
   ],
   "source": [
    "#Print versions\n",
    "print(pil.__version__)\n",
    "print(np.__version__)"
   ]
  },
  {
   "cell_type": "code",
   "execution_count": 78,
   "metadata": {},
   "outputs": [
    {
     "name": "stdout",
     "output_type": "stream",
     "text": [
      "[[-10 -10   0]\n",
      " [-10   0  10]\n",
      " [  0  10  10]]\n"
     ]
    }
   ],
   "source": [
    "#test Kernesl data structure\n",
    "kernel = np.array([[-10,-10,0],[-10,0,10],[0,10,10]])\n",
    "#print(l[0:, :2])\n",
    "print(kernel)"
   ]
  },
  {
   "cell_type": "code",
   "execution_count": 96,
   "metadata": {},
   "outputs": [
    {
     "data": {
      "text/plain": [
       "array([[ 10.,  10.,   0.],\n",
       "       [ 10.,   0., -10.],\n",
       "       [  0., -10., -10.]])"
      ]
     },
     "execution_count": 96,
     "metadata": {},
     "output_type": "execute_result"
    }
   ],
   "source": [
    "#Function to \"flip\" de Kernell for corss correlation\n",
    "def flipKernel(k):\n",
    "    #Get array shape\n",
    "    filas = k.shape[0]\n",
    "    columnas = k.shape[1]\n",
    "    \n",
    "    #Create resulting array\n",
    "    r = np.zeros((filas, columnas))\n",
    "    #print(r)\n",
    "    \n",
    "    #support vars\n",
    "    i = j = 0\n",
    "    n = m = 0\n",
    "    \n",
    "    for x in k:\n",
    "        for val in x:\n",
    "            #print(k[i,j])\n",
    "            n = filas-1-i\n",
    "            m = columnas-1-j\n",
    "            #print(\"Val: %s fila: %s Col: %s\" % (val, n, m))\n",
    "            r[n,m] = val\n",
    "            \n",
    "            if (j < columnas-1):\n",
    "                j = j+1\n",
    "            else:\n",
    "                i += 1\n",
    "                j = 0\n",
    "    return r\n",
    "\n",
    "flipKernel(np.array([[-10,-10,0],[-10,0,10],[0,10,10]]))"
   ]
  },
  {
   "cell_type": "code",
   "execution_count": 99,
   "metadata": {},
   "outputs": [
    {
     "name": "stdout",
     "output_type": "stream",
     "text": [
      "[[10 20  0 30]\n",
      " [20  0 10 20]\n",
      " [10  0 40 10]\n",
      " [20 40  0 30]]\n"
     ]
    }
   ],
   "source": [
    "H = np.array([[10,20,0,30],[20,0,10,20],[10,0,40,10],[20,40,0,30]])\n",
    "print(H)"
   ]
  },
  {
   "cell_type": "code",
   "execution_count": 230,
   "metadata": {},
   "outputs": [
    {
     "name": "stdout",
     "output_type": "stream",
     "text": [
      "\n",
      "-------------- Kernel --------------\n",
      "[[-10 -10   0]\n",
      " [-10   0  10]\n",
      " [  0  10  10]]\n",
      "\n",
      "---------------- H ----------------\n",
      "[[10 20  0 30]\n",
      " [20  0 10 20]\n",
      " [10  0 40 10]\n",
      " [20 40  0 30]]\n",
      "\n",
      "----------------nH ----------------\n",
      "[[ 0  0  0  0  0  0]\n",
      " [ 0 10 20  0 30  0]\n",
      " [ 0 20  0 10 20  0]\n",
      " [ 0 10  0 40 10  0]\n",
      " [ 0 20 40  0 30  0]\n",
      " [ 0  0  0  0  0  0]]\n",
      "\n",
      "------------Start point------------\n",
      "1 1\n"
     ]
    }
   ],
   "source": [
    "#kernell\n",
    "#w = np.array([[-10,-10,0,-10,0],[-10,0,10,-10,0],[0,10,10,-10,0],[-10,0,10,-10,0],[0,10,10,-10,0]])\n",
    "w = np.array([[-10,-10,0],[-10,0,10],[0,10,10]])\n",
    "kR = w.shape[0]//2\n",
    "kC = w.shape[1]//2\n",
    "\n",
    "#image\n",
    "H = np.array([[10,20,0,30],[20,0,10,20],[10,0,40,10],[20,40,0,30]])\n",
    "\n",
    "#new shape to ensure resulting image is the expected size\n",
    "sR = np.zeros((H.shape[0],kR))\n",
    "nH = np.hstack((sR,H,sR))\n",
    "#print(H)\n",
    "#print(\"----------------------------\")\n",
    "\n",
    "sC = np.zeros((kC,nH.shape[1]))\n",
    "nH = np.vstack((sC,nH,sC))\n",
    "#print(H)\n",
    "print(\"\\n-------------- Kernel --------------\")\n",
    "print(w)\n",
    "print(\"\\n---------------- H ----------------\")\n",
    "print(H)\n",
    "print(\"\\n----------------nH ----------------\")\n",
    "print(nH.astype(int))\n",
    "print(\"\\n------------Start point------------\")\n",
    "print(kR,kC)"
   ]
  },
  {
   "cell_type": "code",
   "execution_count": 266,
   "metadata": {},
   "outputs": [
    {
     "name": "stdout",
     "output_type": "stream",
     "text": [
      "\n",
      "------------First value------------\n"
     ]
    },
    {
     "data": {
      "text/plain": [
       "400.0"
      ]
     },
     "execution_count": 266,
     "metadata": {},
     "output_type": "execute_result"
    }
   ],
   "source": [
    "print(\"\\n------------First value------------\")\n",
    "\n",
    "def applyKernel(w, H, pIni):\n",
    "    x = pIni[0]\n",
    "    y = pIni[1]\n",
    "    \n",
    "    r = 0\n",
    "    \n",
    "    for i in range(w.shape[0]):\n",
    "        for j in range(w.shape[1]):\n",
    "            #print(\"---%s,%s\" % (i-kR,j-kC))\n",
    "            #print(\"Kernel: %s,%s\" % (i,j))\n",
    "            #print(\"Imagen %s,%s\" % (x + (i-kR),y + (j-kC)))\n",
    "            \n",
    "            #print(\"---  %s, * %s\" % (w[i,j],H[(x + (i-kR),y + (j-kC))]))\n",
    "            \n",
    "            r = r + (w[i,j] * H[(x + (i-kR),y + (j-kC))])\n",
    "            #print(r)         \n",
    "       \n",
    "    return r\n",
    "\n",
    "\n",
    "applyKernel(w, nH, (1,1))"
   ]
  },
  {
   "cell_type": "code",
   "execution_count": 353,
   "metadata": {},
   "outputs": [
    {
     "name": "stdout",
     "output_type": "stream",
     "text": [
      "\n",
      "------------Cross corr------------\n",
      "\n",
      "[[ 400.    0.  400.  200.]\n",
      " [   0.    0.  500. -300.]\n",
      " [ 400.  500.  300. -400.]\n",
      " [ 300. -300. -500. -500.]]\n"
     ]
    }
   ],
   "source": [
    "crossCorrH = np.zeros((H.shape))\n",
    "\n",
    "for i in range(H.shape[0]):\n",
    "    for j in range(H.shape[1]):\n",
    "        #print(applyKernel(w, nH, (i+kR,j+kC)))\n",
    "        crossCorrH[i,j] = applyKernel(w, nH, (i+kR,j+kC))\n",
    "print(\"\\n------------Cross corr------------\\n\")\n",
    "print (crossCorrH)"
   ]
  },
  {
   "cell_type": "code",
   "execution_count": 354,
   "metadata": {},
   "outputs": [
    {
     "name": "stdout",
     "output_type": "stream",
     "text": [
      "\n",
      "------------Convolucion------------\n",
      "\n",
      "[[-400.    0. -400. -200.]\n",
      " [   0.    0. -500.  300.]\n",
      " [-400. -500. -300.  400.]\n",
      " [-300.  300.  500.  500.]]\n"
     ]
    }
   ],
   "source": [
    "convolH = np.zeros((H.shape))\n",
    "\n",
    "for i in range(H.shape[0]):\n",
    "    for j in range(H.shape[1]):\n",
    "        #print(applyKernel(w, nH, (i+kR,j+kC)))\n",
    "        convolH[i,j] = applyKernel(flipKernel(w), nH, (i+kR,j+kC))\n",
    "        \n",
    "print(\"\\n------------Convolucion------------\\n\")\n",
    "print (convolH)"
   ]
  },
  {
   "cell_type": "code",
   "execution_count": 342,
   "metadata": {},
   "outputs": [
    {
     "data": {
      "text/plain": [
       "127.5"
      ]
     },
     "execution_count": 342,
     "metadata": {},
     "output_type": "execute_result"
    }
   ],
   "source": [
    "def normaliza(val, mn, mx, scaleMax=255):\n",
    "    #    (0 + 500) *   255    / (1000)  \n",
    "    r = (val + mx) * scaleMax / (mx - mn)\n",
    "    #GENERALIZE (works but don't know why :D )\n",
    "    return r\n",
    "\n",
    "normaliza(0, rH.min(), rH.max())\n"
   ]
  },
  {
   "cell_type": "code",
   "execution_count": 359,
   "metadata": {},
   "outputs": [
    {
     "name": "stdout",
     "output_type": "stream",
     "text": [
      "----------Normalizadas------------\n",
      "------------ x Corr --------------\n",
      "[[229.5 127.5 229.5 178.5]\n",
      " [127.5 127.5 255.   51. ]\n",
      " [229.5 255.  204.   25.5]\n",
      " [204.   51.    0.    0. ]]\n",
      "------------ Convol --------------\n",
      "[[ 25.5 127.5  25.5  76.5]\n",
      " [127.5 127.5   0.  204. ]\n",
      " [ 25.5   0.   51.  229.5]\n",
      " [ 51.  204.  255.  255. ]]\n"
     ]
    }
   ],
   "source": [
    "def normH(H):\n",
    "    normH = np.zeros((H.shape))\n",
    "    for i in range(H.shape[0]):\n",
    "        for j in range(H.shape[1]):\n",
    "            #print(normaliza(H[i,j], H.min(), H.max()))\n",
    "            normH[i,j] = normaliza(H[i,j], H.min(), H.max())\n",
    "            \n",
    "    return normH\n",
    "\n",
    "print(\"----------Normalizadas------------\")\n",
    "print(\"------------ x Corr --------------\")\n",
    "print(normH(crossCorrH))\n",
    "print(\"------------ Convol --------------\")\n",
    "print(normH(convolH))"
   ]
  }
 ],
 "metadata": {
  "kernelspec": {
   "display_name": "Python 3",
   "language": "python",
   "name": "python3"
  },
  "language_info": {
   "codemirror_mode": {
    "name": "ipython",
    "version": 3
   },
   "file_extension": ".py",
   "mimetype": "text/x-python",
   "name": "python",
   "nbconvert_exporter": "python",
   "pygments_lexer": "ipython3",
   "version": "3.7.6"
  }
 },
 "nbformat": 4,
 "nbformat_minor": 4
}
